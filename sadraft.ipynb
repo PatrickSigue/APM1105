{
 "cells": [
  {
   "cell_type": "code",
   "execution_count": 99,
   "id": "232887b8-9207-4c57-afe3-3b4d06e1ea56",
   "metadata": {},
   "outputs": [
    {
     "name": "stdout",
     "output_type": "stream",
     "text": [
      "File content:\n",
      "breathe\n",
      "rabbits\n",
      "healthy\n",
      "knot\n",
      "identify\n",
      "berserk\n",
      "many\n",
      "fine\n",
      "malicious\n",
      "books\n"
     ]
    },
    {
     "ename": "AttributeError",
     "evalue": "'str' object has no attribute 'read'",
     "output_type": "error",
     "traceback": [
      "\u001b[0;31m---------------------------------------------------------------------------\u001b[0m",
      "\u001b[0;31mAttributeError\u001b[0m                            Traceback (most recent call last)",
      "Cell \u001b[0;32mIn[99], line 75\u001b[0m\n\u001b[1;32m     73\u001b[0m \u001b[38;5;66;03m# Call the function with the URL\u001b[39;00m\n\u001b[1;32m     74\u001b[0m words \u001b[38;5;241m=\u001b[39m read_text_file_from_github(github_raw_url)\n\u001b[0;32m---> 75\u001b[0m words \u001b[38;5;241m=\u001b[39m \u001b[43mf\u001b[49m\u001b[38;5;241;43m.\u001b[39;49m\u001b[43mread\u001b[49m()\u001b[38;5;241m.\u001b[39msplitlines()\n\u001b[1;32m     77\u001b[0m y \u001b[38;5;241m=\u001b[39m \u001b[38;5;241m0\u001b[39m\n\u001b[1;32m     78\u001b[0m bign \u001b[38;5;241m=\u001b[39m \u001b[38;5;241m0\u001b[39m\n",
      "\u001b[0;31mAttributeError\u001b[0m: 'str' object has no attribute 'read'"
     ]
    }
   ],
   "source": [
    "import random as r\n",
    "import requests\n",
    "\n",
    "# URL of the raw dataset file on GitHub\n",
    "url = 'https://raw.githubusercontent.com/PatrickSigue/APM1105/main/words.txt'\n",
    "\n",
    "# Send a GET request to the URL\n",
    "response = requests.get(url)\n",
    "\n",
    "# Check if the request was successful\n",
    "if response.status_code == 200:\n",
    "    # Save the content of the response to a file\n",
    "    with open('words.txt', 'wb') as f:\n",
    "        f.write(response.content)\n",
    "        print('Dataset saved to file.')\n",
    "else:\n",
    "    print('Failed to download dataset.')\n",
    "#defining of functions\n",
    "def longword(list):\n",
    "    y = 0\n",
    "    bign = 0\n",
    "    bigw = ''\n",
    "    for i in list:\n",
    "        for x in i:\n",
    "            y += 1\n",
    "        if y > bign:\n",
    "            bign = y\n",
    "            bigw = i\n",
    "        y = 0\n",
    "    return bigw\n",
    "\n",
    "def startl(list):\n",
    "    beg = input(\"Words that start with: \")\n",
    "    x = 0\n",
    "    for i in list:\n",
    "        if i[0] == beg:\n",
    "            x += 1\n",
    "            print(i)\n",
    "    if x == 0:\n",
    "        print(\"No words beggining with: \", beg)\n",
    "\n",
    "def ispal(list):\n",
    "    x = 0\n",
    "    print(\"Palindromes:\")\n",
    "    for i in list:\n",
    "        if i == i[::-1]:\n",
    "            x += 1\n",
    "            print(i)\n",
    "    if x == 0:\n",
    "        print(\"None\")\n",
    "\n",
    "def freq(list):\n",
    "    print(\"Frequency of letters:\")\n",
    "    freql = {}\n",
    "    for item in list:\n",
    "        for let in item:\n",
    "            if let.isalpha():\n",
    "                if let in freql:\n",
    "                    freql[let] += 1\n",
    "                else:\n",
    "                    freql[let] = 1\n",
    "    sortedl = dict(sorted(freql.items()))\n",
    "    for q, w in sortedl.items():\n",
    "        print(f\"{q}: {w}\")\n",
    "\n",
    "#main\n",
    "f = open('words.txt', 'r')\n",
    "words = f.read().splitlines()\n",
    "\n",
    "y = 0\n",
    "bign = 0\n",
    "bigw = ''\n",
    "for i in words:\n",
    "    for x in i:\n",
    "        y += 1\n",
    "    if y > bign:\n",
    "        bign = y\n",
    "        bigw = i\n",
    "    y = 0\n",
    "    \n",
    "print(\"Total number of words: \", len(words))\n",
    "print(\"Longest word: \", longword(words))\n",
    "startl(words)\n",
    "ispal(words)\n",
    "freq(words)"
   ]
  },
  {
   "cell_type": "markdown",
   "id": "73b9c760-5a54-4e38-ae99-9ff0bff699f3",
   "metadata": {},
   "source": [
    "# Write a program on the Fibonacci sequence using both iterations and recursion, and including rendering time to compare the performance of both approaches.\n",
    "\n"
   ]
  },
  {
   "cell_type": "code",
   "execution_count": 92,
   "id": "28abe1fc-6fea-4716-8777-11c135a0af3c",
   "metadata": {},
   "outputs": [
    {
     "name": "stdin",
     "output_type": "stream",
     "text": [
      "Start of the Fibonacci sequence:  0\n",
      "Second digit of the Fibonacci sequence:  1\n"
     ]
    },
    {
     "name": "stdout",
     "output_type": "stream",
     "text": [
      "[0, 1, 1, 2, 3, 5, 8, 13, 21, 34, 55, 89, 144, 233, 377, 610, 987, 1597, 2584, 4181, 6765, 10946, 17711, 28657, 46368, 75025, 121393, 196418, 317811, 514229, 832040, 1346269, 2178309, 3524578, 5702887, 9227465, 14930352, 24157817, 39088169, 63245986, 102334155, 165580141, 267914296, 433494437, 701408733, 1134903170, 1836311903, 2971215073, 4807526976, 7778742049]\n",
      "0.0010499954223632812\n"
     ]
    }
   ],
   "source": [
    "import time\n",
    "\n",
    "start = int(input(\"Start of the Fibonacci sequence: \"))\n",
    "sec = int(input(\"Second digit of the Fibonacci sequence: \"))\n",
    "\n",
    "fibseq = []\n",
    "fibseq.append(start)\n",
    "fibseq.append(sec)\n",
    "count = 2\n",
    "\n",
    "start_time = time.time()\n",
    "\n",
    "while count < 50:\n",
    "    next = fibseq[count-1] + fibseq[count-2]\n",
    "    fibseq.append(next)\n",
    "    count += 1\n",
    "\n",
    "print(fibseq)\n",
    "print(time.time() - start_time)\n",
    "    "
   ]
  },
  {
   "cell_type": "code",
   "execution_count": 98,
   "id": "7ac82dc7-e41f-4e0e-94ef-68db0392a376",
   "metadata": {},
   "outputs": [
    {
     "name": "stdout",
     "output_type": "stream",
     "text": [
      "File content:\n",
      "breathe\n",
      "rabbits\n",
      "healthy\n",
      "knot\n",
      "identify\n",
      "berserk\n",
      "many\n",
      "fine\n",
      "malicious\n",
      "books\n"
     ]
    }
   ],
   "source": [
    "import requests\n",
    "\n",
    "def read_text_file_from_github(url):\n",
    "    response = requests.get(url)\n",
    "    if response.status_code == 200:\n",
    "        return response.text\n",
    "    else:\n",
    "        print(\"Failed to retrieve the file. Status code:\", response.status_code)\n",
    "        return None\n",
    "\n",
    "# URL of the raw text file on GitHub\n",
    "github_raw_url = \"https://raw.githubusercontent.com/PatrickSigue/APM1105/main/words.txt\"\n",
    "\n",
    "# Call the function with the URL\n",
    "file_content = read_text_file_from_github(github_raw_url)\n",
    "\n",
    "if file_content:\n",
    "    print(\"File content:\")\n",
    "    print(file_content)"
   ]
  },
  {
   "cell_type": "code",
   "execution_count": null,
   "id": "e6b7583b-5928-4515-967a-61faf7cd4ea7",
   "metadata": {},
   "outputs": [],
   "source": []
  }
 ],
 "metadata": {
  "kernelspec": {
   "display_name": "Python 3 (ipykernel)",
   "language": "python",
   "name": "python3"
  },
  "language_info": {
   "codemirror_mode": {
    "name": "ipython",
    "version": 3
   },
   "file_extension": ".py",
   "mimetype": "text/x-python",
   "name": "python",
   "nbconvert_exporter": "python",
   "pygments_lexer": "ipython3",
   "version": "3.12.1"
  }
 },
 "nbformat": 4,
 "nbformat_minor": 5
}
