{
 "cells": [
  {
   "cell_type": "markdown",
   "id": "70797a78",
   "metadata": {},
   "source": [
    "# Write a function named ack that evaluates the Ackermann function. Use your function to evaluate ack(2,4). What happens for larger values of m and n?"
   ]
  },
  {
   "cell_type": "code",
   "execution_count": null,
   "id": "ea4a96df",
   "metadata": {},
   "outputs": [],
   "source": [
    "def ack(m,n):\n",
    "    if m == 0:\n",
    "        return n+1\n",
    "    elif m > 0 and n == 0:\n",
    "        return ack(m-1,1)\n",
    "    elif m > 0 and n > 0:\n",
    "        return ack(m-1,ack(m,n-1))\n",
    "\n",
    "ack(2,4)\n",
    "\n",
    "#When m and n are larger, it will become to large to compute."
   ]
  },
  {
   "cell_type": "markdown",
   "id": "f9108e90",
   "metadata": {},
   "source": [
    "# A number, a is a power of b if it is divisible by b and a/b is a power of b. Write a function called is_power that takes parameters a and b and returns True if a is a power of b. Note: you will have to think about a base case. (Note: It should work with float.)"
   ]
  },
  {
   "cell_type": "code",
   "execution_count": 24,
   "id": "2ea6b08f",
   "metadata": {},
   "outputs": [
    {
     "name": "stdout",
     "output_type": "stream",
     "text": [
      "Is 59049\n",
      "a power of 9\n"
     ]
    },
    {
     "data": {
      "text/plain": [
       "True"
      ]
     },
     "execution_count": 24,
     "metadata": {},
     "output_type": "execute_result"
    }
   ],
   "source": [
    "def is_power(a,b):\n",
    "    if a % b == 0 and (a/b) % b == 0:\n",
    "        return True\n",
    "    else:\n",
    "        return False\n",
    "\n",
    "x = float(input(\"Is \"))\n",
    "y = float(input(\"a power of \"))\n",
    "\n",
    "is_power(x,y)"
   ]
  }
 ],
 "metadata": {
  "kernelspec": {
   "display_name": "Python 3 (ipykernel)",
   "language": "python",
   "name": "python3"
  },
  "language_info": {
   "codemirror_mode": {
    "name": "ipython",
    "version": 3
   },
   "file_extension": ".py",
   "mimetype": "text/x-python",
   "name": "python",
   "nbconvert_exporter": "python",
   "pygments_lexer": "ipython3",
   "version": "3.9.13"
  }
 },
 "nbformat": 4,
 "nbformat_minor": 5
}
