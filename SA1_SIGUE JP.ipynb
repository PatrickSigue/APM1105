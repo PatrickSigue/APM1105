{
 "cells": [
  {
   "cell_type": "markdown",
   "id": "f6f3fff3-fa89-461f-8d58-750d4b75b04e",
   "metadata": {},
   "source": [
    "# words.txt"
   ]
  },
  {
   "cell_type": "code",
   "execution_count": 41,
   "id": "e962c36a-edf1-4cd7-917d-5da6b88cf911",
   "metadata": {
    "scrolled": true
    "hide_input": false
   },
   "outputs": [
    {
     "name": "stdout",
     "output_type": "stream",
     "text": [
      "Total number of words: 113783\n",
      "Longest word:  counterdemonstrations\n"
     ]
    },
    {
     "name": "stdin",
     "output_type": "stream",
     "text": [
      "Words that start with: e\n"
     ]
    },
    {
     "name": "stdout",
     "output_type": "stream",
     "text": [
      "each eager eagerer eagerest eagerly eagerness eagernesses eagers eagle eagles eaglet eaglets eagre eagres eanling eanlings ear earache earaches eardrop eardrops eardrum eardrums eared earflap earflaps earful earfuls earing earings earl earlap earlaps earldom earldoms earless earlier earliest earlobe earlobes earlock earlocks earls earlship earlships early earmark earmarked earmarking earmarks earmuff earmuffs earn earned earner earners earnest earnestly earnestness earnestnesses earnests earning earnings earns earphone earphones earpiece earpieces earplug earplugs earring earrings ears earshot earshots earstone earstones earth earthed earthen earthenware earthenwares earthier earthiest earthily earthiness earthinesses earthing earthlier earthliest earthliness earthlinesses earthly earthman earthmen earthnut earthnuts earthpea earthpeas earthquake earthquakes earths earthset earthsets earthward earthwards earthworm earthworms earthy earwax earwaxes earwig earwigged earwigging earwigs earworm earworms ease eased easeful easel easels easement easements eases easier easies easiest easily easiness easinesses easing east easter easterlies easterly eastern easters easting eastings easts eastward eastwards easy easygoing eat eatable eatables eaten eater eateries eaters eatery eath eating eatings eats eau eaux eave eaved eaves eavesdrop eavesdropped eavesdropper eavesdroppers eavesdropping eavesdrops ebb ebbed ebbet ebbets ebbing ebbs ebon ebonies ebonise ebonised ebonises ebonising ebonite ebonites ebonize ebonized ebonizes ebonizing ebons ebony ebullient ecarte ecartes ecaudate ecbolic ecbolics eccentric eccentrically eccentricities eccentricity eccentrics ecclesia ecclesiae ecclesiastic ecclesiastical ecclesiastics eccrine ecdyses ecdysial ecdysis ecdyson ecdysone ecdysones ecdysons ecesis ecesises echard echards eche eched echelon echeloned echeloning echelons eches echidna echidnae echidnas echinate eching echini echinoid echinoids echinus echo echoed echoer echoers echoes echoey echoic echoing echoism echoisms echoless eclair eclairs eclat eclats eclectic eclectics eclipse eclipsed eclipses eclipsing eclipsis eclipsises ecliptic ecliptics eclogite eclogites eclogue eclogues eclosion eclosions ecole ecoles ecologic ecological ecologically ecologies ecologist ecologists ecology economic economical economically economics economies economist economists economize economized economizes economizing economy ecotonal ecotone ecotones ecotype ecotypes ecotypic ecraseur ecraseurs ecru ecrus ecstasies ecstasy ecstatic ecstatically ecstatics ectases ectasis ectatic ecthyma ecthymata ectoderm ectoderms ectomere ectomeres ectopia ectopias ectopic ectosarc ectosarcs ectozoa ectozoan ectozoans ectozoon ectypal ectype ectypes ecu ecumenic ecus eczema eczemas edacious edacities edacity edaphic eddied eddies eddo eddoes eddy eddying edelstein edema edemas edemata edentate edentates edge edged edgeless edger edgers edges edgeways edgewise edgier edgiest edgily edginess edginesses edging edgings edgy edh edhs edibilities edibility edible edibles edict edictal edicts edification edifications edifice edifices edified edifier edifiers edifies edify edifying edile ediles edit editable edited editing edition editions editor editorial editorialize editorialized editorializes editorializing editorially editorials editors editress editresses edits educable educables educate educated educates educating education educational educations educator educators educe educed educes educing educt eduction eductions eductive eductor eductors educts eel eelgrass eelgrasses eelier eeliest eellike eelpout eelpouts eels eelworm eelworms eely eerie eerier eeriest eerily eeriness eerinesses eery ef eff effable efface effaced effacement effacements effacer effacers effaces effacing effect effected effecter effecters effecting effective effectively effectiveness effector effectors effects effectual effectually effectualness effectualnesses effeminacies effeminacy effeminate effendi effendis efferent efferents effervesce effervesced effervescence effervescences effervescent effervescently effervesces effervescing effete effetely efficacies efficacious efficacy efficiencies efficiency efficient efficiently effigies effigy effluent effluents effluvia efflux effluxes effort effortless effortlessly efforts effrontery effs effulge effulged effulges effulging effuse effused effuses effusing effusion effusions effusive effusively efs eft efts eftsoon eftsoons egad egads egal egalite egalites eger egers egest egesta egested egesting egestion egestions egestive egests egg eggar eggars eggcup eggcups egged egger eggers egghead eggheads egging eggnog eggnogs eggplant eggplants eggs eggshell eggshells egis egises eglatere eglateres ego egoism egoisms egoist egoistic egoists egomania egomanias egos egotism egotisms egotist egotistic egotistical egotistically egotists egregious egregiously egress egressed egresses egressing egret egrets eh eide eider eiderdown eiderdowns eiders eidetic eidola eidolon eidolons eidos eight eighteen eighteens eighteenth eighteenths eighth eighthly eighths eighties eightieth eightieths eights eightvo eightvos eighty eikon eikones eikons einkorn einkorns eirenic either ejaculate ejaculated ejaculates ejaculating ejaculation ejaculations eject ejecta ejected ejecting ejection ejections ejective ejectives ejector ejectors ejects eke eked ekes eking ekistic ekistics ektexine ektexines el elaborate elaborated elaborately elaborateness elaboratenesses elaborates elaborating elaboration elaborations elain elains elan eland elands elans elaphine elapid elapids elapine elapse elapsed elapses elapsing elastase elastases elastic elasticities elasticity elastics elastin elastins elate elated elatedly elater elaterid elaterids elaterin elaterins elaters elates elating elation elations elative elatives elbow elbowed elbowing elbows eld elder elderberries elderberry elderly elders eldest eldrich eldritch elds elect elected electing election elections elective electives elector electoral electorate electorates electors electret electrets electric electrical electrically electrician electricians electricities electricity electrics electrification electrifications electro electrocardiogram electrocardiograms electrocardiograph electrocardiographs electrocute electrocuted electrocutes electrocuting electrocution electrocutions electrode electrodes electroed electroing electrolysis electrolysises electrolyte electrolytes electrolytic electromagnet electromagnetally electromagnetic electromagnets electron electronic electronics electrons electroplate electroplated electroplates electroplating electros electrum electrums elects elegance elegances elegancies elegancy elegant elegantly elegiac elegiacs elegies elegise elegised elegises elegising elegist elegists elegit elegits elegize elegized elegizes elegizing elegy element elemental elementary elements elemi elemis elenchi elenchic elenchus elenctic elephant elephants elevate elevated elevates elevating elevation elevations elevator elevators eleven elevens eleventh elevenths elevon elevons elf elfin elfins elfish elfishly elflock elflocks elhi elicit elicited eliciting elicitor elicitors elicits elide elided elides elidible eliding eligibilities eligibility eligible eligibles eligibly eliminate eliminated eliminates eliminating elimination eliminations elision elisions elite elites elitism elitisms elitist elitists elixir elixirs elk elkhound elkhounds elks ell ellipse ellipses ellipsis elliptic elliptical ells elm elmier elmiest elms elmy elocution elocutions elodea elodeas eloign eloigned eloigner eloigners eloigning eloigns eloin eloined eloiner eloiners eloining eloins elongate elongated elongates elongating elongation elongations elope eloped eloper elopers elopes eloping eloquent eloquently els else elsewhere eluant eluants eluate eluates elucidate elucidated elucidates elucidating elucidation elucidations elude eluded eluder eluders eludes eluding eluent eluents elusion elusions elusive elusively elusiveness elusivenesses elusory elute eluted elutes eluting elution elutions eluvia eluvial eluviate eluviated eluviates eluviating eluvium eluviums elver elvers elves elvish elvishly elysian elytra elytroid elytron elytrous elytrum em emaciate emaciated emaciates emaciating emaciation emaciations emanate emanated emanates emanating emanation emanations emanator emanators emancipatation emancipatations emancipate emancipated emancipates emancipating emancipation emancipations emasculatation emasculatations emasculate emasculated emasculates emasculating embalm embalmed embalmer embalmers embalming embalms embank embanked embanking embankment embankments embanks embar embargo embargoed embargoing embargos embark embarkation embarkations embarked embarking embarks embarrass embarrassed embarrasses embarrassing embarrassment embarrassments embarred embarring embars embassies embassy embattle embattled embattles embattling embay embayed embaying embays embed embedded embedding embeds embellish embellished embellishes embellishing embellishment embellishments ember embers embezzle embezzled embezzlement embezzlements embezzler embezzlers embezzles embezzling embitter embittered embittering embitters emblaze emblazed emblazer emblazers emblazes emblazing emblazon emblazoned emblazoning emblazons emblem emblematic emblemed embleming emblems embodied embodier embodiers embodies embodiment embodiments embody embodying embolden emboldened emboldening emboldens emboli embolic embolies embolism embolisms embolus emboly emborder embordered embordering emborders embosk embosked embosking embosks embosom embosomed embosoming embosoms emboss embossed embosser embossers embosses embossing embow embowed embowel emboweled emboweling embowelled embowelling embowels embower embowered embowering embowers embowing embows embrace embraced embracer embracers embraces embracing embroider embroidered embroidering embroiders embroil embroiled embroiling embroils embrown embrowned embrowning embrowns embrue embrued embrues embruing embrute embruted embrutes embruting embryo embryoid embryon embryonic embryons embryos emcee emceed emcees emceing eme emeer emeerate emeerates emeers emend emendate emendated emendates emendating emendation emendations emended emender emenders emending emends emerald emeralds emerge emerged emergence emergences emergencies emergency emergent emergents emerges emerging emeries emerita emeriti emeritus emerod emerods emeroid emeroids emersed emersion emersions emery emes emeses emesis emetic emetics emetin emetine emetines emetins emeu emeus emeute emeutes emigrant emigrants emigrate emigrated emigrates emigrating emigration emigrations emigre emigres eminence eminences eminencies eminency eminent eminently emir emirate emirates emirs emissaries emissary emission emissions emissive emit emits emitted emitter emitters emitting emmer emmers emmet emmets emodin emodins emolument emoluments emote emoted emoter emoters emotes emoting emotion emotional emotionally emotions emotive empale empaled empaler empalers empales empaling empanel empaneled empaneling empanelled empanelling empanels empathic empathies empathy emperies emperor emperors empery emphases emphasis emphasize emphasized emphasizes emphasizing emphatic emphatically emphysema emphysemas empire empires empiric empirical empirically empirics emplace emplaced emplaces emplacing emplane emplaned emplanes emplaning employ employe employed employee employees employer employers employes employing employment employments employs empoison empoisoned empoisoning empoisons emporia emporium emporiums empower empowered empowering empowers empress empresses emprise emprises emprize emprizes emptied emptier emptiers empties emptiest emptily emptiness emptinesses emptings emptins empty emptying empurple empurpled empurples empurpling empyema empyemas empyemata empyemic empyreal empyrean empyreans ems emu emulate emulated emulates emulating emulation emulations emulator emulators emulous emulsification emulsifications emulsified emulsifier emulsifiers emulsifies emulsify emulsifying emulsion emulsions emulsive emulsoid emulsoids emus emyd emyde emydes emyds en enable enabled enabler enablers enables enabling enact enacted enacting enactive enactment enactments enactor enactors enactory enacts enamel enameled enameler enamelers enameling enamelled enamelling enamels enamine enamines enamor enamored enamoring enamors enamour enamoured enamouring enamours enate enates enatic enation enations encaenia encage encaged encages encaging encamp encamped encamping encampment encampments encamps encase encased encases encash encashed encashes encashing encasing enceinte enceintes encephalitides encephalitis enchain enchained enchaining enchains enchant enchanted enchanter enchanters enchanting enchantment enchantments enchantress enchantresses enchants enchase enchased enchaser enchasers enchases enchasing enchoric encina encinal encinas encipher enciphered enciphering enciphers encircle encircled encircles encircling enclasp enclasped enclasping enclasps enclave enclaves enclitic enclitics enclose enclosed encloser enclosers encloses enclosing enclosure enclosures encode encoded encoder encoders encodes encoding encomia encomium encomiums encompass encompassed encompasses encompassing encore encored encores encoring encounter encountered encountering encounters encourage encouraged encouragement encouragements encourages encouraging encroach encroached encroaches encroaching encroachment encroachments encrust encrusted encrusting encrusts encrypt encrypted encrypting encrypts encumber encumberance encumberances encumbered encumbering encumbers encyclic encyclical encyclicals encyclics encyclopedia encyclopedias encyclopedic encyst encysted encysting encysts end endamage endamaged endamages endamaging endameba endamebae endamebas endanger endangered endangering endangers endarch endarchies endarchy endbrain endbrains endear endeared endearing endearment endearments endears endeavor endeavored endeavoring endeavors ended endemial endemic endemics endemism endemisms ender endermic enders endexine endexines ending endings endite endited endites enditing endive endives endleaf endleaves endless endlessly endlong endmost endocarp endocarps endocrine endoderm endoderms endogamies endogamy endogen endogenies endogens endogeny endopod endopods endorse endorsed endorsee endorsees endorsement endorsements endorser endorsers endorses endorsing endorsor endorsors endosarc endosarcs endosmos endosmoses endosome endosomes endostea endow endowed endower endowers endowing endowment endowments endows endozoic endpaper endpapers endplate endplates endrin endrins ends endue endued endues enduing endurable endurance endurances endure endured endures enduring enduro enduros endways endwise enema enemas enemata enemies enemy energetic energetically energid energids energies energise energised energises energising energize energized energizes energizing energy enervate enervated enervates enervating enervation enervations enface enfaced enfaces enfacing enfeeble enfeebled enfeebles enfeebling enfeoff enfeoffed enfeoffing enfeoffs enfetter enfettered enfettering enfetters enfever enfevered enfevering enfevers enfilade enfiladed enfilades enfilading enfin enflame enflamed enflames enflaming enfold enfolded enfolder enfolders enfolding enfolds enforce enforceable enforced enforcement enforcements enforcer enforcers enforces enforcing enframe enframed enframes enframing enfranchise enfranchised enfranchisement enfranchisements enfranchises enfranchising eng engage engaged engagement engagements engager engagers engages engaging engender engendered engendering engenders engild engilded engilding engilds engine engined engineer engineered engineering engineerings engineers engineries enginery engines engining enginous engird engirded engirding engirdle engirdled engirdles engirdling engirds engirt english englished englishes englishing englut engluts englutted englutting engorge engorged engorges engorging engraft engrafted engrafting engrafts engrail engrailed engrailing engrails engrain engrained engraining engrains engram engramme engrammes engrams engrave engraved engraver engravers engraves engraving engravings engross engrossed engrosses engrossing engs engulf engulfed engulfing engulfs enhalo enhaloed enhaloes enhaloing enhance enhanced enhancement enhancements enhancer enhancers enhances enhancing eniac enigma enigmas enigmata enigmatic enisle enisled enisles enisling enjambed enjoin enjoined enjoiner enjoiners enjoining enjoins enjoy enjoyable enjoyed enjoyer enjoyers enjoying enjoyment enjoyments enjoys enkindle enkindled enkindles enkindling enlace enlaced enlaces enlacing enlarge enlarged enlargement enlargements enlarger enlargers enlarges enlarging enlighten enlightened enlightening enlightenment enlightenments enlightens enlist enlisted enlistee enlistees enlister enlisters enlisting enlistment enlistments enlists enliven enlivened enlivening enlivens enmesh enmeshed enmeshes enmeshing enmities enmity ennead enneadic enneads enneagon enneagons ennoble ennobled ennobler ennoblers ennobles ennobling ennui ennuis ennuye ennuyee enol enolase enolases enolic enologies enology enols enorm enormities enormity enormous enormously enormousness enormousnesses enosis enosises enough enoughs enounce enounced enounces enouncing enow enows enplane enplaned enplanes enplaning enquire enquired enquires enquiries enquiring enquiry enrage enraged enrages enraging enrapt enravish enravished enravishes enravishing enrich enriched enricher enrichers enriches enriching enrichment enrichments enrobe enrobed enrober enrobers enrobes enrobing enrol enroll enrolled enrollee enrollees enroller enrollers enrolling enrollment enrollments enrolls enrols enroot enrooted enrooting enroots ens ensample ensamples ensconce ensconced ensconces ensconcing enscroll enscrolled enscrolling enscrolls ensemble ensembles enserf enserfed enserfing enserfs ensheath ensheathed ensheathing ensheaths enshrine enshrined enshrines enshrining enshroud enshrouded enshrouding enshrouds ensiform ensign ensigncies ensigncy ensigns ensilage ensilaged ensilages ensilaging ensile ensiled ensiles ensiling enskied enskies ensky enskyed enskying enslave enslaved enslavement enslavements enslaver enslavers enslaves enslaving ensnare ensnared ensnarer ensnarers ensnares ensnaring ensnarl ensnarled ensnarling ensnarls ensorcel ensorceled ensorceling ensorcels ensoul ensouled ensouling ensouls ensphere ensphered enspheres ensphering ensue ensued ensues ensuing ensure ensured ensurer ensurers ensures ensuring enswathe enswathed enswathes enswathing entail entailed entailer entailers entailing entails entameba entamebae entamebas entangle entangled entanglement entanglements entangles entangling entases entasia entasias entasis entastic entellus entelluses entente ententes enter entera enteral entered enterer enterers enteric entering enteron enterons enterprise enterprises enters entertain entertained entertainer entertainers entertaining entertainment entertainments entertains enthalpies enthalpy enthetic enthral enthrall enthralled enthralling enthralls enthrals enthrone enthroned enthrones enthroning enthuse enthused enthuses enthusiasm enthusiast enthusiastic enthusiastically enthusiasts enthusing entia entice enticed enticement enticements enticer enticers entices enticing entire entirely entires entireties entirety entities entitle entitled entitles entitling entity entoderm entoderms entoil entoiled entoiling entoils entomb entombed entombing entombs entomological entomologies entomologist entomologists entomology entopic entourage entourages entozoa entozoal entozoan entozoans entozoic entozoon entrails entrain entrained entraining entrains entrance entranced entrances entrancing entrant entrants entrap entrapment entrapments entrapped entrapping entraps entreat entreated entreaties entreating entreats entreaty entree entrees entrench entrenched entrenches entrenching entrenchment entrenchments entrepot entrepots entrepreneur entrepreneurs entresol entresols entries entropies entropy entrust entrusted entrusting entrusts entry entryway entryways entwine entwined entwines entwining entwist entwisted entwisting entwists enumerate enumerated enumerates enumerating enumeration enumerations enunciate enunciated enunciates enunciating enunciation enunciations enure enured enures enuresis enuresises enuretic enuring envelop envelope enveloped envelopes enveloping envelopment envelopments envelops envenom envenomed envenoming envenoms enviable enviably envied envier enviers envies envious environ environed environing environment environmental environmentalist environmentalists environments environs envisage envisaged envisages envisaging envision envisioned envisioning envisions envoi envois envoy envoys envy envying enwheel enwheeled enwheeling enwheels enwind enwinding enwinds enwomb enwombed enwombing enwombs enwound enwrap enwrapped enwrapping enwraps enzootic enzootics enzym enzyme enzymes enzymic enzyms eobiont eobionts eohippus eohippuses eolian eolipile eolipiles eolith eolithic eoliths eolopile eolopiles eon eonian eonism eonisms eons eosin eosine eosines eosinic eosins epact epacts eparch eparchies eparchs eparchy epaulet epaulets epee epeeist epeeists epees epeiric epergne epergnes epha ephah ephahs ephas ephebe ephebes ephebi ephebic epheboi ephebos ephebus ephedra ephedras ephedrin ephedrins ephemera ephemerae ephemeras ephod ephods ephor ephoral ephorate ephorates ephori ephors epiblast epiblasts epibolic epibolies epiboly epic epical epically epicalyces epicalyx epicalyxes epicarp epicarps epicedia epicene epicenes epiclike epicotyl epicotyls epics epicure epicurean epicureans epicures epicycle epicycles epidemic epidemics epidemiology epiderm epidermis epidermises epiderms epidote epidotes epidotic epidural epifauna epifaunae epifaunas epifocal epigeal epigean epigene epigenic epigeous epigon epigone epigones epigoni epigonic epigons epigonus epigram epigrammatic epigrams epigraph epigraphs epigynies epigyny epilepsies epilepsy epileptic epileptics epilog epilogs epilogue epilogued epilogues epiloguing epimer epimere epimeres epimeric epimers epimysia epinaoi epinaos epinasties epinasty epiphanies epiphany epiphyte epiphytes episcia episcias episcopal episcope episcopes episode episodes episodic episomal episome episomes epistasies epistasy epistaxis epistle epistler epistlers epistles epistyle epistyles epitaph epitaphs epitases epitasis epitaxies epitaxy epithet epithets epitome epitomes epitomic epitomize epitomized epitomizes epitomizing epizoa epizoic epizoism epizoisms epizoite epizoites epizoon epizooties epizooty epoch epochal epochs epode epodes eponym eponymic eponymies eponyms eponymy epopee epopees epopoeia epopoeias epos eposes epoxide epoxides epoxied epoxies epoxy epoxyed epoxying epsilon epsilons equabilities equability equable equably equal equaled equaling equalise equalised equalises equalising equalities equality equalize equalized equalizes equalizing equalled equalling equally equals equanimities equanimity equate equated equates equating equation equations equator equatorial equators equerries equerry equestrian equestrians equilateral equilibrium equine equinely equines equinities equinity equinox equinoxes equip equipage equipages equipment equipments equipped equipper equippers equipping equips equiseta equitable equitant equites equities equity equivalence equivalences equivalent equivalents equivocal equivocate equivocated equivocates equivocating equivocation equivocations equivoke equivokes er era eradiate eradiated eradiates eradiating eradicable eradicate eradicated eradicates eradicating eras erase erased eraser erasers erases erasing erasion erasions erasure erasures erbium erbiums ere erect erected erecter erecters erectile erecting erection erections erective erectly erector erectors erects erelong eremite eremites eremitic eremuri eremurus erenow erepsin erepsins erethic erethism erethisms erewhile erg ergastic ergate ergates ergo ergodic ergot ergotic ergotism ergotisms ergots ergs erica ericas ericoid erigeron erigerons eringo eringoes eringos eristic eristics erlking erlkings ermine ermined ermines ern erne ernes erns erode eroded erodent erodes erodible eroding erogenic eros erose erosely eroses erosible erosion erosions erosive erotic erotica erotical erotically erotics erotism erotisms err errancies errancy errand errands errant errantly errantries errantry errants errata erratas erratic erratically erratum erred errhine errhines erring erringly erroneous erroneously error errors errs ers ersatz ersatzes erses erst erstwhile eruct eructate eructated eructates eructating eructed eructing eructs erudite erudition eruditions erugo erugos erumpent erupt erupted erupting eruption eruptions eruptive eruptives erupts ervil ervils eryngo eryngoes eryngos erythema erythemas erythematous erythrocytosis erythron erythrons es escalade escaladed escalades escalading escalate escalated escalates escalating escalation escalations escalator escalators escallop escalloped escalloping escallops escalop escaloped escaloping escalops escapade escapades escape escaped escapee escapees escaper escapers escapes escaping escapism escapisms escapist escapists escar escargot escargots escarole escaroles escarp escarped escarping escarpment escarpments escarps escars eschalot eschalots eschar eschars escheat escheated escheating escheats eschew eschewal eschewals eschewed eschewing eschews escolar escolars escort escorted escorting escorts escot escoted escoting escots escrow escrowed escrowing escrows escuage escuages escudo escudos esculent esculents eserine eserines eses eskar eskars esker eskers esophagi esophagus esoteric espalier espaliered espaliering espaliers espanol espanoles esparto espartos especial especially espial espials espied espiegle espies espionage espionages espousal espousals espouse espoused espouser espousers espouses espousing espresso espressos esprit esprits espy espying esquire esquired esquires esquiring ess essay essayed essayer essayers essaying essayist essayists essays essence essences essential essentially esses essoin essoins essonite essonites establish established establishes establishing establishment establishments estancia estancias estate estated estates estating esteem esteemed esteeming esteems ester esterase esterases esterified esterifies esterify esterifying esters estheses esthesia esthesias esthesis esthesises esthete esthetes esthetic estimable estimate estimated estimates estimating estimation estimations estimator estimators estival estivate estivated estivates estivating estop estopped estoppel estoppels estopping estops estovers estragon estragons estral estrange estranged estrangement estrangements estranges estranging estray estrayed estraying estrays estreat estreated estreating estreats estrin estrins estriol estriols estrogen estrogens estrone estrones estrous estrual estrum estrums estrus estruses estuaries estuary esurient et eta etagere etageres etamin etamine etamines etamins etape etapes etas etatism etatisms etatist etatists etcetera etceteras etch etched etcher etchers etches etching etchings eternal eternally eternals eterne eternise eternised eternises eternising eternities eternity eternize eternized eternizes eternizing etesian etesians eth ethane ethanes ethanol ethanols ethene ethenes ether ethereal etheric etherified etherifies etherify etherifying etherish etherize etherized etherizes etherizing ethers ethic ethical ethically ethicals ethician ethicians ethicist ethicists ethicize ethicized ethicizes ethicizing ethics ethinyl ethinyls ethion ethions ethmoid ethmoids ethnarch ethnarchs ethnic ethnical ethnicities ethnicity ethnics ethnologic ethnological ethnologies ethnology ethnos ethnoses ethologies ethology ethos ethoses ethoxy ethoxyl ethoxyls eths ethyl ethylate ethylated ethylates ethylating ethylene ethylenes ethylic ethyls ethyne ethynes ethynyl ethynyls etiolate etiolated etiolates etiolating etiologies etiology etna etnas etoile etoiles etude etudes etui etuis etwee etwees etyma etymological etymologist etymologists etymon etymons eucaine eucaines eucalypt eucalypti eucalypts eucalyptus eucalyptuses eucharis eucharises eucharistic euchre euchred euchres euchring euclase euclases eucrite eucrites eucritic eudaemon eudaemons eudemon eudemons eugenic eugenics eugenist eugenists eugenol eugenols euglena euglenas eulachan eulachans eulachon eulachons eulogia eulogiae eulogias eulogies eulogise eulogised eulogises eulogising eulogist eulogistic eulogists eulogium eulogiums eulogize eulogized eulogizes eulogizing eulogy eunuch eunuchs euonymus euonymuses eupatrid eupatridae eupatrids eupepsia eupepsias eupepsies eupepsy eupeptic euphemism euphemisms euphemistic euphenic euphonic euphonies euphonious euphony euphoria euphorias euphoric euphotic euphrasies euphrasy euphroe euphroes euphuism euphuisms euphuist euphuists euploid euploidies euploids euploidy eupnea eupneas eupneic eupnoea eupnoeas eupnoeic eureka euripi euripus euro europium europiums euros eurythmies eurythmy eustacies eustacy eustatic eustele eusteles eutaxies eutaxy eutectic eutectics euthanasia euthanasias eutrophies eutrophy euxenite euxenites evacuant evacuants evacuate evacuated evacuates evacuating evacuation evacuations evacuee evacuees evadable evade evaded evader evaders evades evadible evading evaluable evaluate evaluated evaluates evaluating evaluation evaluations evaluator evaluators evanesce evanesced evanesces evanescing evangel evangelical evangelism evangelisms evangelist evangelistic evangelists evangels evanish evanished evanishes evanishing evaporate evaporated evaporates evaporating evaporation evaporations evaporative evaporator evaporators evasion evasions evasive evasiveness evasivenesses eve evection evections even evened evener eveners evenest evenfall evenfalls evening evenings evenly evenness evennesses evens evensong evensongs event eventful eventide eventides events eventual eventualities eventuality eventually ever evergreen evergreens everlasting evermore eversion eversions evert everted everting evertor evertors everts every everybody everyday everyman everymen everyone everything everyway everywhere eves evict evicted evictee evictees evicting eviction evictions evictor evictors evicts evidence evidenced evidences evidencing evident evidently evil evildoer evildoers eviler evilest eviller evillest evilly evilness evilnesses evils evince evinced evinces evincing evincive eviscerate eviscerated eviscerates eviscerating evisceration eviscerations evitable evite evited evites eviting evocable evocation evocations evocative evocator evocators evoke evoked evoker evokers evokes evoking evolute evolutes evolution evolutionary evolutions evolve evolved evolver evolvers evolves evolving evonymus evonymuses evulsion evulsions evzone evzones ewe ewer ewers ewes ex exacerbate exacerbated exacerbates exacerbating exact exacta exactas exacted exacter exacters exactest exacting exaction exactions exactitude exactitudes exactly exactness exactnesses exactor exactors exacts exaggerate exaggerated exaggeratedly exaggerates exaggerating exaggeration exaggerations exaggerator exaggerators exalt exaltation exaltations exalted exalter exalters exalting exalts exam examen examens examination examinations examine examined examinee examinees examiner examiners examines examining example exampled examples exampling exams exanthem exanthems exarch exarchal exarchies exarchs exarchy exasperate exasperated exasperates exasperating exasperation exasperations excavate excavated excavates excavating excavation excavations excavator excavators exceed exceeded exceeder exceeders exceeding exceedingly exceeds excel excelled excellence excellences excellency excellent excellently excelling excels except excepted excepting exception exceptional exceptionalally exceptions excepts excerpt excerpted excerpting excerpts excess excesses excessive excessively exchange exchangeable exchanged exchanges exchanging excide excided excides exciding exciple exciples excise excised excises excising excision excisions excitabilities excitability excitant excitants excitation excitations excite excited excitedly excitement excitements exciter exciters excites exciting exciton excitons excitor excitors exclaim exclaimed exclaiming exclaims exclamation exclamations exclamatory exclave exclaves exclude excluded excluder excluders excludes excluding exclusion exclusions exclusive exclusively exclusiveness exclusivenesses excommunicate excommunicated excommunicates excommunicating excommunication excommunications excrement excremental excrements excreta excretal excrete excreted excreter excreters excretes excreting excretion excretions excretory excruciating excruciatingly exculpate exculpated exculpates exculpating excursion excursions excuse excused excuser excusers excuses excusing exeat exec execrate execrated execrates execrating execs executable execute executed executer executers executes executing execution executioner executioners executions executive executives executor executors executrix executrixes exedra exedrae exegeses exegesis exegete exegetes exegetic exempla exemplar exemplars exemplary exemplification exemplifications exemplified exemplifies exemplify exemplifying exemplum exempt exempted exempting exemption exemptions exempts exequial exequies exequy exercise exercised exerciser exercisers exercises exercising exergual exergue exergues exert exerted exerting exertion exertions exertive exerts exes exhalant exhalants exhalation exhalations exhale exhaled exhalent exhalents exhales exhaling exhaust exhausted exhausting exhaustion exhaustions exhaustive exhausts exhibit exhibited exhibiting exhibition exhibitions exhibitor exhibitors exhibits exhilarate exhilarated exhilarates exhilarating exhilaration exhilarations exhort exhortation exhortations exhorted exhorter exhorters exhorting exhorts exhumation exhumations exhume exhumed exhumer exhumers exhumes exhuming exigence exigences exigencies exigency exigent exigible exiguities exiguity exiguous exile exiled exiles exilian exilic exiling eximious exine exines exist existed existence existences existent existents existing exists exit exited exiting exits exocarp exocarps exocrine exocrines exoderm exoderms exodoi exodos exodus exoduses exoergic exogamic exogamies exogamy exogen exogens exonerate exonerated exonerates exonerating exoneration exonerations exorable exorbitant exorcise exorcised exorcises exorcising exorcism exorcisms exorcist exorcists exorcize exorcized exorcizes exorcizing exordia exordial exordium exordiums exosmic exosmose exosmoses exospore exospores exoteric exotic exotica exotically exoticism exoticisms exotics exotism exotisms exotoxic exotoxin exotoxins expand expanded expander expanders expanding expands expanse expanses expansion expansions expansive expansively expansiveness expansivenesses expatriate expatriated expatriates expatriating expect expectancies expectancy expectant expectantly expectation expectations expected expecting expects expedient expedients expedious expedite expedited expediter expediters expedites expediting expedition expeditions expeditious expel expelled expellee expellees expeller expellers expelling expels expend expended expender expenders expendible expending expenditure expenditures expends expense expensed expenses expensing expensive expensively experience experiences experiment experimental experimentation experimentations experimented experimenter experimenters experimenting experiments expert experted experting expertise expertises expertly expertness expertnesses experts expiable expiate expiated expiates expiating expiation expiations expiator expiators expiration expirations expire expired expirer expirers expires expiries expiring expiry explain explainable explained explaining explains explanation explanations explanatory explant explanted explanting explants expletive expletives explicable explicably explicit explicitly explicitness explicitnesses explicits explode exploded exploder exploders explodes exploding exploit exploitation exploitations exploited exploiting exploits exploration explorations exploratory explore explored explorer explorers explores exploring explosion explosions explosive explosively explosives expo exponent exponential exponentially exponents export exportation exportations exported exporter exporters exporting exports expos exposal exposals expose exposed exposer exposers exposes exposing exposit exposited expositing exposition expositions exposits exposure exposures expound expounded expounding expounds express expressed expresses expressible expressibly expressing expression expressionless expressions expressive expressiveness expressivenesses expressly expressway expressways expulse expulsed expulses expulsing expulsion expulsions expunge expunged expunger expungers expunges expunging expurgate expurgated expurgates expurgating expurgation expurgations exquisite exscind exscinded exscinding exscinds exsecant exsecants exsect exsected exsecting exsects exsert exserted exserting exserts extant extemporaneous extemporaneously extend extendable extended extender extenders extendible extending extends extension extensions extensive extensively extensor extensors extent extents extenuate extenuated extenuates extenuating extenuation extenuations exterior exteriors exterminate exterminated exterminates exterminating extermination exterminations exterminator exterminators extern external externally externals externe externes externs extinct extincted extincting extinction extinctions extincts extinguish extinguishable extinguished extinguisher extinguishers extinguishes extinguishing extirpate extirpated extirpates extirpating extol extoll extolled extoller extollers extolling extolls extols extort extorted extorter extorters extorting extortion extortioner extortioners extortionist extortionists extortions extorts extra extracampus extraclassroom extracommunity extraconstitutional extracontinental extract extractable extracted extracting extraction extractions extractor extractors extracts extracurricular extradepartmental extradiocesan extradite extradited extradites extraditing extradition extraditions extrados extradoses extrafamilial extragalactic extragovernmental extrahuman extralegal extramarital extranational extraneous extraneously extraordinarily extraordinary extraplanetary extrapyramidal extras extrascholastic extrasensory extraterrestrial extravagance extravagances extravagant extravagantly extravaganza extravaganzas extravasate extravasated extravasates extravasating extravasation extravasations extravehicular extraversion extraversions extravert extraverted extraverts extrema extreme extremely extremer extremes extremest extremities extremity extremum extricable extricate extricated extricates extricating extrication extrications extrorse extrovert extroverts extrude extruded extruder extruders extrudes extruding exuberance exuberances exuberant exuberantly exudate exudates exudation exudations exude exuded exudes exuding exult exultant exulted exulting exults exurb exurban exurbia exurbias exurbs exuvia exuviae exuvial exuviate exuviated exuviates exuviating exuvium eyas eyases eye eyeable eyeball eyeballed eyeballing eyeballs eyebeam eyebeams eyebolt eyebolts eyebrow eyebrows eyecup eyecups eyed eyedness eyednesses eyedropper eyedroppers eyeful eyefuls eyeglass eyeglasses eyehole eyeholes eyehook eyehooks eyeing eyelash eyelashes eyeless eyelet eyelets eyeletted eyeletting eyelid eyelids eyelike eyeliner eyeliners eyen eyepiece eyepieces eyepoint eyepoints eyer eyers eyes eyeshade eyeshades eyeshot eyeshots eyesight eyesights eyesome eyesore eyesores eyespot eyespots eyestalk eyestalks eyestone eyestones eyestrain eyestrains eyeteeth eyetooth eyewash eyewashes eyewater eyewaters eyewink eyewinks eyewitness eying eyne eyra eyras eyre eyres eyrie eyries eyrir eyry "
     ]
    },
    {
     "name": "stdin",
     "output_type": "stream",
     "text": [
      "Words that contain: hel\n"
     ]
    },
    {
     "name": "stdout",
     "output_type": "stream",
     "text": [
      "anthelia anthelices anthelix aphelia aphelian aphelion atheling athelings bachelor bachelorhood bachelorhoods bachelors beheld bethel bethels blithely bombshell bombshells bookshelf bookshelfs brothel brothels bushel busheled busheler bushelers busheling bushelled bushelling bushels chela chelae chelas chelate chelated chelates chelating chelator chelators cheloid cheloids dishelm dishelmed dishelming dishelms echelon echeloned echeloning echelons eggshell eggshells gauchely hatchel hatcheled hatcheling hatchelled hatchelling hatchels held heliac heliacal heliast heliasts helical helices helicities helicity helicoid helicoids helicon helicons helicopt helicopted helicopter helicopters helicopting helicopts helio helios heliotrope helipad helipads heliport heliports helistop helistops helium heliums helix helixes hell hellbent hellbox hellboxes hellcat hellcats helled heller helleri helleries hellers hellery hellfire hellfires hellgrammite hellgrammites hellhole hellholes helling hellion hellions hellish hellkite hellkites hello helloed helloes helloing hellos hells helluva helm helmed helmet helmeted helmeting helmets helming helminth helminths helmless helms helmsman helmsmen helot helotage helotages helotism helotisms helotries helotry helots help helpable helped helper helpers helpful helpfully helpfulness helpfulnesses helping helpings helpless helplessly helplessness helplessnesses helpmate helpmates helpmeet helpmeets helps helve helved helves helving isohel isohels lithely mohel mohels nevertheless nonetheless nutshell nutshells overheld overwhelm overwhelmed overwhelming overwhelmingly overwhelms parhelia parhelic phellem phellems phelonia rakehell rakehells satchel satchels seashell seashells shelduck shelducks shelf shelfful shelffuls shell shellac shellack shellacked shellacking shellackings shellacks shellacs shelled sheller shellers shellfish shellfishes shellier shelliest shelling shells shelly shelter sheltered sheltering shelters sheltie shelties shelty shelve shelved shelver shelvers shelves shelvier shelviest shelving shelvings shelvy thelitis thelitises unhelm unhelmed unhelming unhelms unhelped unshell unshelled unshelling unshells upheld whelk whelkier whelkiest whelks whelky whelm whelmed whelming whelms whelp whelped whelping whelps withheld \n",
      "Palindromes in the list:\n",
      "aa aba aga aha ala alula ama ana anna ava awa bib bob boob bub civic dad deed deified deked deled denned dewed did dud eke eme ere eve ewe eye gag gig hah halalah hallah huh kaiak kayak keek kook level madam marram mem mim minim mom mum noon nun oho otto pap peep pep pip poop pop pup radar redder refer reifier repaper reviver rotator rotor sagas sees selles sememes semes seres sexes shahs sis solos sos stets tat tenet terret tit toot tot tut vav waw wow yay \n",
      "Frequency of letters:\n",
      "a : 68574\n",
      "b : 17794\n",
      "c : 34281\n",
      "d : 34548\n",
      "e : 106752\n",
      "f : 12706\n",
      "g : 27832\n",
      "h : 20186\n",
      "i : 77392\n",
      "j : 1780\n",
      "k : 9366\n",
      "l : 47003\n",
      "m : 24739\n",
      "n : 60505\n",
      "o : 54538\n",
      "p : 25789\n",
      "q : 1632\n",
      "r : 64963\n",
      "s : 86526\n",
      "t : 57029\n",
      "u : 31151\n",
      "v : 9186\n",
      "w : 8533\n",
      "x : 2700\n",
      "y : 13473\n",
      "z : 3750\n"
     ]
    }
   ],
   "source": [
    "import requests\n",
    "\n",
    "# URL of the raw dataset file on GitHub\n",
    "url = 'https://raw.githubusercontent.com/AllenDowney/ThinkPython2/master/code/words.txt'\n",
    "\n",
    "# Send a GET request to the URL\n",
    "response = requests.get(url)\n",
    "\n",
    "# Check if the request was successful\n",
    "if response.status_code == 200:\n",
    "    # Save the content of the response to a file\n",
    "    with open('words.txt', 'wb') as f:\n",
    "        f.write(response.content)\n",
    "else:\n",
    "    print('Failed to download dataset.')\n",
    "\n",
    "#Defining functions\n",
    "def longest_word(list):\n",
    "    let_count = 0\n",
    "    temp_len = 0\n",
    "    temp_word = ''\n",
    "    for word in list:\n",
    "        for letter in word:\n",
    "            let_count += 1\n",
    "        if let_count > temp_len:\n",
    "            temp_len = let_count\n",
    "            temp_word = word\n",
    "        let_count = 0\n",
    "    return temp_word\n",
    "\n",
    "def starts_with(list):\n",
    "    sta_let = input(\"Words that start with:\")\n",
    "    count = 0\n",
    "    for word in list:\n",
    "        if word[0] == sta_let:\n",
    "            count += 1\n",
    "            print(word, end = ' ')\n",
    "        else:\n",
    "            pass\n",
    "    if count == 0:\n",
    "        print(\"No words beggining with\", sta_let)\n",
    "    else:\n",
    "        pass\n",
    "\n",
    "def is_substring(list):\n",
    "    sub = input(\"Words that contain:\")\n",
    "    x = 0\n",
    "    for word in list:\n",
    "        if sub in word:\n",
    "            x += 1\n",
    "            print(word, end = ' ')\n",
    "        else:\n",
    "            pass\n",
    "    if x == 0:\n",
    "        print(\"No words containing\", sub)\n",
    "    else:\n",
    "        pass\n",
    "def is_palindrome(list):\n",
    "    count = 0\n",
    "    print(\"\\nPalindromes in the list:\")\n",
    "    for word in list:\n",
    "        if word == word[::-1]:\n",
    "            print(word, end = ' ')\n",
    "            count += 1\n",
    "        else:\n",
    "            pass\n",
    "    if count == 0:\n",
    "        print(\"None\")\n",
    "    \n",
    "def letter_frequency(words):\n",
    "    frequency = {}\n",
    "    for word in words:\n",
    "        for letter in word:\n",
    "            if letter.isalpha(): \n",
    "                if letter in frequency:\n",
    "                    frequency[letter] += 1\n",
    "                else:\n",
    "                    frequency[letter] = 1\n",
    "                    \n",
    "    sorted_frequency = dict(sorted(frequency.items()))\n",
    "    print(\"\\nFrequency of letters:\")\n",
    "    for letter, count in sorted_frequency.items():\n",
    "        print(f\"{letter} : {count}\")\n",
    "        \n",
    "#main\n",
    "f = open('words.txt', 'r')\n",
    "words = f.read().splitlines()\n",
    "\n",
    "print(\"Total number of words:\", len(words))\n",
    "print(\"Longest word: \", longest_word(words))\n",
    "starts_with(words)\n",
    "is_substring(words)\n",
    "is_palindrome(words)\n",
    "letter_frequency(words)"
   ]
  },
  {
   "cell_type": "markdown",
   "id": "de30f5e6-3987-47ec-a98b-940672801145",
   "metadata": {},
   "source": [
    "# Word_Guessing_Game.pynb"
   ]
  },
  {
   "cell_type": "code",
   "execution_count": 81,
   "id": "1ccc93ca-be74-4693-88fb-435eeccefccc",
   "metadata": {},
   "outputs": [
    {
     "name": "stdout",
     "output_type": "stream",
     "text": [
      "_ _ _ _ _ _ "
     ]
    },
    {
     "name": "stdin",
     "output_type": "stream",
     "text": [
      "Guess a letter: a\n"
     ]
    },
    {
     "name": "stdout",
     "output_type": "stream",
     "text": [
      "Correct! 11 guesses remaining.\n",
      "_ _ _ _ a _ "
     ]
    },
    {
     "name": "stdin",
     "output_type": "stream",
     "text": [
      "Guess a letter: e\n"
     ]
    },
    {
     "name": "stdout",
     "output_type": "stream",
     "text": [
      "Correct! 10 guesses remaining.\n",
      "_ e _ _ a e "
     ]
    },
    {
     "name": "stdin",
     "output_type": "stream",
     "text": [
      "Guess a letter: i\n"
     ]
    },
    {
     "name": "stdout",
     "output_type": "stream",
     "text": [
      "Incorrect! 9 guesses remaining.\n",
      "_ e _ _ a e "
     ]
    },
    {
     "name": "stdin",
     "output_type": "stream",
     "text": [
      "Guess a letter: o\n"
     ]
    },
    {
     "name": "stdout",
     "output_type": "stream",
     "text": [
      "Incorrect! 8 guesses remaining.\n",
      "_ e _ _ a e "
     ]
    },
    {
     "name": "stdin",
     "output_type": "stream",
     "text": [
      "Guess a letter: u\n"
     ]
    },
    {
     "name": "stdout",
     "output_type": "stream",
     "text": [
      "Incorrect! 7 guesses remaining.\n",
      "_ e _ _ a e "
     ]
    },
    {
     "name": "stdin",
     "output_type": "stream",
     "text": [
      "Guess a letter: p\n"
     ]
    },
    {
     "name": "stdout",
     "output_type": "stream",
     "text": [
      "Incorrect! 6 guesses remaining.\n",
      "_ e _ _ a e "
     ]
    },
    {
     "name": "stdin",
     "output_type": "stream",
     "text": [
      "Guess a letter: h\n"
     ]
    },
    {
     "name": "stdout",
     "output_type": "stream",
     "text": [
      "Incorrect! 5 guesses remaining.\n",
      "_ e _ _ a e "
     ]
    },
    {
     "name": "stdin",
     "output_type": "stream",
     "text": [
      "Guess a letter: c\n"
     ]
    },
    {
     "name": "stdout",
     "output_type": "stream",
     "text": [
      "Correct! 4 guesses remaining.\n",
      "c e _ _ a e "
     ]
    },
    {
     "name": "stdin",
     "output_type": "stream",
     "text": [
      "Guess a letter: l\n"
     ]
    },
    {
     "name": "stdout",
     "output_type": "stream",
     "text": [
      "Correct! 3 guesses remaining.\n",
      "c e l l a e \n",
      "Congratulations!\n",
      "_ _ _ _ _ _ _ "
     ]
    },
    {
     "name": "stdin",
     "output_type": "stream",
     "text": [
      "Guess a letter: a\n"
     ]
    },
    {
     "name": "stdout",
     "output_type": "stream",
     "text": [
      "Incorrect! 12 guesses remaining.\n",
      "_ _ _ _ _ _ _ "
     ]
    },
    {
     "name": "stdin",
     "output_type": "stream",
     "text": [
      "Guess a letter: e\n"
     ]
    },
    {
     "name": "stdout",
     "output_type": "stream",
     "text": [
      "Correct! 11 guesses remaining.\n",
      "_ _ e _ _ _ _ "
     ]
    },
    {
     "name": "stdin",
     "output_type": "stream",
     "text": [
      "Guess a letter: i\n"
     ]
    },
    {
     "name": "stdout",
     "output_type": "stream",
     "text": [
      "Correct! 10 guesses remaining.\n",
      "_ _ e _ i _ _ "
     ]
    },
    {
     "name": "stdin",
     "output_type": "stream",
     "text": [
      "Guess a letter: o\n"
     ]
    },
    {
     "name": "stdout",
     "output_type": "stream",
     "text": [
      "Incorrect! 9 guesses remaining.\n",
      "_ _ e _ i _ _ "
     ]
    },
    {
     "name": "stdin",
     "output_type": "stream",
     "text": [
      "Guess a letter: u\n"
     ]
    },
    {
     "name": "stdout",
     "output_type": "stream",
     "text": [
      "Incorrect! 8 guesses remaining.\n",
      "_ _ e _ i _ _ "
     ]
    },
    {
     "name": "stdin",
     "output_type": "stream",
     "text": [
      "Guess a letter: z\n"
     ]
    },
    {
     "name": "stdout",
     "output_type": "stream",
     "text": [
      "Incorrect! 7 guesses remaining.\n",
      "_ _ e _ i _ _ "
     ]
    },
    {
     "name": "stdin",
     "output_type": "stream",
     "text": [
      "Guess a letter: x\n"
     ]
    },
    {
     "name": "stdout",
     "output_type": "stream",
     "text": [
      "Incorrect! 6 guesses remaining.\n",
      "_ _ e _ i _ _ "
     ]
    },
    {
     "name": "stdin",
     "output_type": "stream",
     "text": [
      "Guess a letter: c\n"
     ]
    },
    {
     "name": "stdout",
     "output_type": "stream",
     "text": [
      "Incorrect! 5 guesses remaining.\n",
      "_ _ e _ i _ _ "
     ]
    },
    {
     "name": "stdin",
     "output_type": "stream",
     "text": [
      "Guess a letter: v\n"
     ]
    },
    {
     "name": "stdout",
     "output_type": "stream",
     "text": [
      "Incorrect! 4 guesses remaining.\n",
      "_ _ e _ i _ _ "
     ]
    },
    {
     "name": "stdin",
     "output_type": "stream",
     "text": [
      "Guess a letter: b\n"
     ]
    },
    {
     "name": "stdout",
     "output_type": "stream",
     "text": [
      "Incorrect! 3 guesses remaining.\n",
      "_ _ e _ i _ _ "
     ]
    },
    {
     "name": "stdin",
     "output_type": "stream",
     "text": [
      "Guess a letter: w\n"
     ]
    },
    {
     "name": "stdout",
     "output_type": "stream",
     "text": [
      "Correct! 2 guesses remaining.\n",
      "w _ e _ i _ _ "
     ]
    },
    {
     "name": "stdin",
     "output_type": "stream",
     "text": [
      "Guess a letter: f\n"
     ]
    },
    {
     "name": "stdout",
     "output_type": "stream",
     "text": [
      "Incorrect! 1 guesses remaining.\n",
      "w _ e _ i _ _ "
     ]
    },
    {
     "name": "stdin",
     "output_type": "stream",
     "text": [
      "Guess a letter: t\n"
     ]
    },
    {
     "name": "stdout",
     "output_type": "stream",
     "text": [
      "Incorrect! 0 guesses remaining.\n",
      "w _ e _ i _ _ \n",
      "You have failed. The answer is wheyish\n"
     ]
    }
   ],
   "source": [
    "import random as r\n",
    "import requests\n",
    "\n",
    "# URL of the raw dataset file on GitHub\n",
    "url = 'https://raw.githubusercontent.com/AllenDowney/ThinkPython2/master/code/words.txt'\n",
    "\n",
    "# Send a GET request to the URL\n",
    "response = requests.get(url)\n",
    "\n",
    "# Check if the request was successful\n",
    "if response.status_code == 200:\n",
    "    # Save the content of the response to a file\n",
    "    with open('words.txt', 'wb') as f:\n",
    "        f.write(response.content)\n",
    "else:\n",
    "    print('Failed to download dataset.')\n",
    "\n",
    "#Defining functions\n",
    "def get_word():\n",
    "    f = open('words.txt', 'r')\n",
    "    words = f.read().splitlines()\n",
    "    word = r.choice(words)\n",
    "    return word\n",
    "\n",
    "def show_attempt(word, attempt, tries, guess, answer):\n",
    "    if attempt in word:\n",
    "        print(\"Correct!\", tries, \"guesses remaining.\")\n",
    "        for w in range(0,len(word)):\n",
    "            if attempt == answer[w]:\n",
    "                guess[w] = attempt\n",
    "            else:\n",
    "                pass\n",
    "        for e in guess:\n",
    "            print(e, end = ' ')\n",
    "        return guess\n",
    "    else:\n",
    "        print(\"Incorrect!\", tries, \"guesses remaining.\")\n",
    "        for w in range(0,len(word)):\n",
    "            if attempt == answer[w]:\n",
    "                guess[w] = attempt\n",
    "            else:\n",
    "                pass\n",
    "        for e in guess:\n",
    "            print(e, end = ' ')\n",
    "        return guess\n",
    "        \n",
    "\n",
    "def get_attempt(tries):\n",
    "    attempt = input(\"Guess a letter:\")\n",
    "    if len(attempt) != 1 or not attempt.isalpha():\n",
    "        print(\"Invalid input!\", tries, \"guesses remaining.\")\n",
    "    else:\n",
    "        return attempt  \n",
    "\n",
    "def main():\n",
    "    word = get_word()\n",
    "    tries = (len(word) + 5)\n",
    "    guess = []\n",
    "    answer = []\n",
    "\n",
    "    for i in word:\n",
    "        guess.append(\"_\")\n",
    "        answer.append(i)\n",
    "        print(\"_\", end = ' ')\n",
    "    \n",
    "    while tries >= 0:\n",
    "        attempt = get_attempt(tries)\n",
    "        guess = show_attempt(word,attempt, tries, guess, answer)\n",
    "\n",
    "        if guess == answer:\n",
    "            print(\"\\nCongratulations!\")\n",
    "            break\n",
    "        elif tries == 0:\n",
    "            print(\"\\nYou have failed. The answer is\", word)\n",
    "        else:\n",
    "            pass\n",
    "        tries -= 1\n",
    "        \n",
    "for i in range(0,2):\n",
    "    main()"
   ]
  },
  {
   "cell_type": "markdown",
   "id": "7ac6118f-f0c3-41b0-8753-6fb812a82002",
   "metadata": {},
   "source": [
    "## Write a program on the Fibonacci sequence using both iterations and recursion, and including rendering time to compare the performance of both approaches."
   ]
  },
  {
   "cell_type": "code",
   "execution_count": 16,
   "id": "ed23c4aa-21fa-442e-bc7c-f639582ea868",
   "metadata": {},
   "outputs": [
    {
     "name": "stdin",
     "output_type": "stream",
     "text": [
      "Enter number of terms: 15\n"
     ]
    },
    {
     "name": "stdout",
     "output_type": "stream",
     "text": [
      "Iteration\n",
      "0 1 1 2 3 5 8 13 21 34 55 89 144 233 377 \n",
      "Elapsed time: 0.0002448558807373047\n",
      "Recursion\n",
      "0 1 1 2 3 5 8 13 21 34 55 89 144 233 377 \n",
      "Elapsed time: 0.0008270740509033203\n"
     ]
    },
    {
     "name": "stdin",
     "output_type": "stream",
     "text": [
      "Enter number of terms: 25\n"
     ]
    },
    {
     "name": "stdout",
     "output_type": "stream",
     "text": [
      "Iteration\n",
      "0 1 1 2 3 5 8 13 21 34 55 89 144 233 377 610 987 1597 2584 4181 6765 10946 17711 28657 46368 \n",
      "Elapsed time: 0.004748106002807617\n",
      "Recursion\n",
      "0 1 1 2 3 5 8 13 21 34 55 89 144 233 377 610 987 1597 2584 4181 6765 10946 17711 28657 46368 \n",
      "Elapsed time: 0.03828001022338867\n"
     ]
    },
    {
     "name": "stdin",
     "output_type": "stream",
     "text": [
      "Enter number of terms: 35\n"
     ]
    },
    {
     "name": "stdout",
     "output_type": "stream",
     "text": [
      "Iteration\n",
      "0 1 1 2 3 5 8 13 21 34 55 89 144 233 377 610 987 1597 2584 4181 6765 10946 17711 28657 46368 75025 121393 196418 317811 514229 832040 1346269 2178309 3524578 5702887 \n",
      "Elapsed time: 0.006495952606201172\n",
      "Recursion\n",
      "0 1 1 2 3 5 8 13 21 34 55 89 144 233 377 610 987 1597 2584 4181 6765 10946 17711 28657 46368 75025 121393 196418 317811 514229 832040 1346269 2178309 3524578 5702887 \n",
      "Elapsed time: 3.989877223968506\n"
     ]
    }
   ],
   "source": [
    "import time as t\n",
    "\n",
    "def fib_ite(fib_seq, terms):\n",
    "    for q in range(2, terms):\n",
    "        nex_num = fib_seq[q - 1] + fib_seq[q - 2]\n",
    "        fib_seq.append(nex_num)\n",
    "\n",
    "    for w in fib_seq:\n",
    "        print(w, end = ' ')\n",
    "\n",
    "def fib_rec(term):\n",
    "    if term <= 1:\n",
    "        return term\n",
    "    else:\n",
    "        return fib_rec(term - 1) + fib_rec(term - 2)\n",
    "\n",
    "for i in range(0,3):     \n",
    "    terms = int(input(\"Enter number of terms:\"))\n",
    "\n",
    "    fib_seq = [0, 1]\n",
    "\n",
    "    print(\"Iteration\")\n",
    "\n",
    "    sta_time = t.time()\n",
    "    fib_ite(fib_seq, terms)\n",
    "    end_tim = t.time()\n",
    "\n",
    "    print(\"\\nElapsed time:\", end_tim - sta_time)\n",
    "\n",
    "    print(\"Recursion\")\n",
    "\n",
    "    sta_time = t.time()\n",
    "    for i in range(terms):\n",
    "        print(fib_rec(i), end = \" \")\n",
    "    end_tim = t.time()\n",
    "    print(\"\\nElapsed time:\", end_tim - sta_time)"
   ]
  },
  {
   "cell_type": "markdown",
   "id": "d84466f4-da21-47cf-8c6f-5f1ae3e2abdf",
   "metadata": {},
   "source": [
    "With the tests conducted, recursion is seen to be a bit slower in lower number of terms, and a lot slower in bigger number of terms"
   ]
  },
  {
   "cell_type": "markdown",
   "id": "016a2f11-f4af-4273-bf6b-234d69a1a5d6",
   "metadata": {},
   "source": [
    "## Write a program to find the solution to the equation x^3 + 5x = 20 by iteration"
   ]
  },
  {
   "cell_type": "code",
   "execution_count": 83,
   "id": "5f1fd411-e55a-4a5a-89c6-65333e70deb6",
   "metadata": {},
   "outputs": [
    {
     "name": "stdout",
     "output_type": "stream",
     "text": [
      "x-values: 2, 2.154, 2.097, 2.119, 2.111, 2.114, 2.113, 2.113\n",
      "The solution is x = 2.113 to 3 decimal places.\n"
     ]
    }
   ],
   "source": [
    "x_value = [2]\n",
    "\n",
    "for i in x_value:\n",
    "    if round(i, 3) == round((20 - 5 * i) ** (1/ 3), 3):\n",
    "        x_value.append((20 - 5 * i) ** (1/ 3))\n",
    "        print(\"x-values:\", end = ' ')\n",
    "        for q in range(0, len(x_value)):\n",
    "            if q < (len(x_value) - 1):               \n",
    "                print(round(x_value[q], 3), end = ', ')\n",
    "            else:\n",
    "                print(round(x_value[q], 3))\n",
    "                \n",
    "        print(\"The solution is x =\", round(i, 3), \"to 3 decimal places.\")\n",
    "        break\n",
    "    else:\n",
    "        x_value.append((20 - 5 * i) ** (1/ 3))"
   ]
  }
 ],
 "metadata": {
  "kernelspec": {
   "display_name": "Python 3 (ipykernel)",
   "language": "python",
   "name": "python3"
  },
  "language_info": {
   "codemirror_mode": {
    "name": "ipython",
    "version": 3
   },
   "file_extension": ".py",
   "mimetype": "text/x-python",
   "name": "python",
   "nbconvert_exporter": "python",
   "pygments_lexer": "ipython3",
   "version": "3.12.1"
  }
 },
 "nbformat": 4,
 "nbformat_minor": 5
}
