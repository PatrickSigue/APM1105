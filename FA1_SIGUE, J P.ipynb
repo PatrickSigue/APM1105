{
 "cells": [
  {
   "cell_type": "markdown",
   "id": "dd5f8f83-28ea-456c-86c7-39a39ed9d029",
   "metadata": {},
   "source": [
    "# How many seconds are there in 42 minutes 42 seconds?"
   ]
  },
  {
   "cell_type": "code",
   "execution_count": 1,
   "id": "2070eede-3a46-47ee-ab29-946eb188cf20",
   "metadata": {},
   "outputs": [
    {
     "name": "stdout",
     "output_type": "stream",
     "text": [
      "42 minutes and 42 seconds is equal to 2562 seconds!\n"
     ]
    }
   ],
   "source": [
    "minutes = 42\n",
    "seconds = 42\n",
    "\n",
    "convert = minutes * 60\n",
    "final = convert + seconds\n",
    "\n",
    "print('%d minutes and %d seconds is equal to %d seconds!' %(minutes, seconds, final))"
   ]
  },
  {
   "cell_type": "markdown",
   "id": "9590f783-c7f9-4b53-b829-5e5877a0a501",
   "metadata": {},
   "source": [
    "# How many miles are there in 10 kilometers? Hint: there are 1.61 kilometers in a mile."
   ]
  },
  {
   "cell_type": "code",
   "execution_count": 6,
   "id": "8f7bec11-64bb-4729-81bb-b2de3471519a",
   "metadata": {},
   "outputs": [
    {
     "name": "stdout",
     "output_type": "stream",
     "text": [
      "10 kilometers is 6.21 miles!\n"
     ]
    }
   ],
   "source": [
    "kilometers = 10\n",
    "convertfact = 1.61\n",
    "\n",
    "miles = kilometers / convertfact\n",
    "print('%d kilometers is %.02f miles!' %(kilometers, miles))"
   ]
  },
  {
   "cell_type": "markdown",
   "id": "8a3558e8-a5c2-4cb2-8c7d-7e8f62c48bed",
   "metadata": {},
   "source": [
    "# If you run a 10 kilometer race in 42 minutes 42 seconds, what is your average pace (time per mile in minutes and seconds)? What is your average speed in miles per hour? "
   ]
  },
  {
   "cell_type": "code",
   "execution_count": 18,
   "id": "ca68aab5-a3fd-44c5-8671-dea9228e8247",
   "metadata": {},
   "outputs": [
    {
     "name": "stdout",
     "output_type": "stream",
     "text": [
      "Pace: 6 : 52\n",
      "Average speed: 8.73 miles per hour\n"
     ]
    }
   ],
   "source": [
    "minutes = 42\n",
    "seconds = 42\n",
    "\n",
    "convert = minutes*60\n",
    "final_second = convert + seconds\n",
    "final_hour = final_second / 3600\n",
    "\n",
    "kilometers = 10\n",
    "convertfact = 1.61\n",
    "\n",
    "miles = kilometers / convertfact\n",
    "\n",
    "pace = final_second / miles\n",
    "final_pace_minute = pace // 60\n",
    "final_pace_seconds= pace - (final_pace_minute * 60)\n",
    "\n",
    "average_speed = miles / final_hour\n",
    "\n",
    "print('Pace: %d : %d' %(final_pace_minute, final_pace_seconds))\n",
    "print('Average speed: %.02f miles per hour' %(average_speed))\n"
   ]
  }
 ],
 "metadata": {
  "kernelspec": {
   "display_name": "Python 3 (ipykernel)",
   "language": "python",
   "name": "python3"
  },
  "language_info": {
   "codemirror_mode": {
    "name": "ipython",
    "version": 3
   },
   "file_extension": ".py",
   "mimetype": "text/x-python",
   "name": "python",
   "nbconvert_exporter": "python",
   "pygments_lexer": "ipython3",
   "version": "3.12.1"
  }
 },
 "nbformat": 4,
 "nbformat_minor": 5
}
