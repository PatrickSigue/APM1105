{
 "cells": [
  {
   "cell_type": "markdown",
   "id": "391d59af-154a-4fef-8d90-b28b28ae389d",
   "metadata": {},
   "source": [
    "# Create an exponent calculator using both iterations and recursion, with rendering time."
   ]
  },
  {
   "cell_type": "code",
   "execution_count": 53,
   "id": "f18852cf-d50c-49d0-a4eb-9c95d9f5883a",
   "metadata": {},
   "outputs": [
    {
     "name": "stdin",
     "output_type": "stream",
     "text": [
      "Enter base: 2\n",
      "Enter exponent: 5\n"
     ]
    },
    {
     "name": "stdout",
     "output_type": "stream",
     "text": [
      "\n",
      "Iterative:\n",
      "2 raised to 5 is 32\n",
      "Time elapsed:  0.001138925552368164\n",
      "\n",
      "Recursive:\n",
      "2 raised to 5 is 32\n",
      "Time elapsed:  0.0011110305786132812\n"
     ]
    }
   ],
   "source": [
    "import time as t\n",
    "\n",
    "def iterative_exponent(x,y):\n",
    "    result = 1\n",
    "    for i in range(0,y):\n",
    "        result *= x\n",
    "    return result\n",
    "\n",
    "def recursive_exponent(x, y):\n",
    "    if y == 0:\n",
    "        return 1\n",
    "    else:\n",
    "        return x * recursive_exponent(x, y - 1)\n",
    "\n",
    "base = int(input(\"Enter base:\"))\n",
    "exponent = int(input(\"Enter exponent:\"))\n",
    "\n",
    "print(\"\\nIterative:\")\n",
    "start = t.time()\n",
    "print(base , \"raised to\", exponent, \"is\", iterative_exponent(base, exponent))\n",
    "print(\"Time elapsed: \", t.time()-start)\n",
    "\n",
    "print(\"\\nRecursive:\")\n",
    "start = t.time()\n",
    "print(base , \"raised to\", exponent, \"is\", recursive_exponent(base, exponent))\n",
    "print(\"Time elapsed: \", t.time()-start)"
   ]
  },
  {
   "cell_type": "markdown",
   "id": "085cf428-76c7-4039-bbcb-d32a03fec658",
   "metadata": {},
   "source": [
    "# Iteratively and recursively calculate the sum of the first n powers of 2, along with the rendering time of each function using the time module."
   ]
  },
  {
   "cell_type": "code",
   "execution_count": 60,
   "id": "c0471754-b5e9-42ea-99be-563758ee50f0",
   "metadata": {},
   "outputs": [
    {
     "name": "stdin",
     "output_type": "stream",
     "text": [
      "Enter exponent: 10\n"
     ]
    },
    {
     "name": "stdout",
     "output_type": "stream",
     "text": [
      "\n",
      "Iterative:\n",
      "The sum of the first 10 powers of 2 is 2046\n",
      "Time elapsed:  0.0015468597412109375\n",
      "\n",
      "Recursive:\n",
      "The sum of the first 10 powers of 2 is 2046\n",
      "Time elapsed:  0.0006389617919921875\n"
     ]
    }
   ],
   "source": [
    "import time as t\n",
    "\n",
    "def iterative_exponent(x):\n",
    "    sum = 0\n",
    "    exp = 1\n",
    "    for i in range(0,x):\n",
    "        exp *= 2\n",
    "        sum += exp\n",
    "    return sum\n",
    "\n",
    "def recursive_exponent(x, sum=0, exp=1):\n",
    "    if x == 0:\n",
    "        return sum\n",
    "    else:\n",
    "        exp *= 2\n",
    "        sum += exp\n",
    "        return recursive_exponent(x - 1, sum, exp)\n",
    "\n",
    "exponent = int(input(\"Enter exponent:\"))\n",
    "\n",
    "print(\"\\nIterative:\")\n",
    "start = t.time()\n",
    "print(\"The sum of the first\", exponent, \"powers of 2 is\", iterative_exponent(exponent))\n",
    "print(\"Time elapsed: \", t.time()-start)\n",
    "\n",
    "print(\"\\nRecursive:\")\n",
    "start = t.time()\n",
    "print(\"The sum of the first\", exponent, \"powers of 2 is\", recursive_exponent(exponent))\n",
    "print(\"Time elapsed: \", t.time()-start)"
   ]
  },
  {
   "cell_type": "markdown",
   "id": "97ced89b-b774-42e0-bb28-d5be22f881b2",
   "metadata": {},
   "source": [
    "### In both exercises, Recursion is faster."
   ]
  }
 ],
 "metadata": {
  "kernelspec": {
   "display_name": "Python 3 (ipykernel)",
   "language": "python",
   "name": "python3"
  },
  "language_info": {
   "codemirror_mode": {
    "name": "ipython",
    "version": 3
   },
   "file_extension": ".py",
   "mimetype": "text/x-python",
   "name": "python",
   "nbconvert_exporter": "python",
   "pygments_lexer": "ipython3",
   "version": "3.12.1"
  }
 },
 "nbformat": 4,
 "nbformat_minor": 5
}
