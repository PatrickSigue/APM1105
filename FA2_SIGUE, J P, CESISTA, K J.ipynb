{
 "cells": [
  {
   "cell_type": "markdown",
   "id": "434c2bd2",
   "metadata": {},
   "source": [
    "# Write a Python function to multiply all the numbers in a list."
   ]
  },
  {
   "cell_type": "code",
   "execution_count": 2,
   "id": "bde8c43b",
   "metadata": {},
   "outputs": [
    {
     "name": "stdout",
     "output_type": "stream",
     "text": [
      "756449280\n"
     ]
    }
   ],
   "source": [
    "samp = [-36, 96, 38, -64, 90,]\n",
    "a = 1\n",
    "for x in samp:\n",
    "    a *= x\n",
    "    \n",
    "print(a)"
   ]
  },
  {
   "cell_type": "markdown",
   "id": "3c4b5435",
   "metadata": {},
   "source": [
    "# Code"
   ]
  },
  {
   "cell_type": "code",
   "execution_count": 3,
   "id": "02cd19b0",
   "metadata": {},
   "outputs": [
    {
     "name": "stdout",
     "output_type": "stream",
     "text": [
      "# = = = = # = = = = # = = = = # = = = = # \n",
      "!         !         !         !         ! \n",
      "!         !         !         !         ! \n",
      "!         !         !         !         ! \n",
      "!         !         !         !         ! \n",
      "# = = = = # = = = = # = = = = # = = = = # \n",
      "!         !         !         !         ! \n",
      "!         !         !         !         ! \n",
      "!         !         !         !         ! \n",
      "!         !         !         !         ! \n",
      "# = = = = # = = = = # = = = = # = = = = # \n",
      "!         !         !         !         ! \n",
      "!         !         !         !         ! \n",
      "!         !         !         !         ! \n",
      "!         !         !         !         ! \n",
      "# = = = = # = = = = # = = = = # = = = = # \n",
      "!         !         !         !         ! \n",
      "!         !         !         !         ! \n",
      "!         !         !         !         ! \n",
      "!         !         !         !         ! \n",
      "# = = = = # = = = = # = = = = # = = = = # "
     ]
    }
   ],
   "source": [
    "counter = 0\n",
    "\n",
    "print('#', end = ' ')\n",
    "while counter < 4:\n",
    "    for x in range(4):\n",
    "        print('=', end = ' ')\n",
    "    if counter == 4:\n",
    "        print('#')\n",
    "    else:\n",
    "        print('#', end = ' ')\n",
    "    counter += 1\n",
    "    \n",
    "for x in range(4):  \n",
    "    counter = 0\n",
    "\n",
    "    print('\\n!', end = ' ')\n",
    "    while counter < 4:\n",
    "        for x in range(4):\n",
    "            print(' ', end = ' ')\n",
    "        if counter == 4:\n",
    "            print('!')\n",
    "        else:\n",
    "            print('!', end = ' ')\n",
    "        counter += 1\n",
    "    \n",
    "    counter = 0\n",
    "\n",
    "    print('\\n!', end = ' ')\n",
    "    while counter < 4:\n",
    "        for x in range(4):\n",
    "            print(' ', end = ' ')\n",
    "        if counter == 4:\n",
    "            print('!')\n",
    "        else:\n",
    "            print('!', end = ' ')\n",
    "        counter += 1\n",
    "\n",
    "    counter = 0\n",
    "\n",
    "    print('\\n!', end = ' ')\n",
    "    while counter < 4:\n",
    "        for x in range(4):\n",
    "            print(' ', end = ' ')\n",
    "        if counter == 4:\n",
    "            print('!')\n",
    "        else:\n",
    "            print('!', end = ' ')\n",
    "        counter += 1\n",
    "    \n",
    "    counter = 0\n",
    "\n",
    "    print('\\n!', end = ' ')\n",
    "    while counter < 4:\n",
    "        for x in range(4):\n",
    "            print(' ', end = ' ')\n",
    "        if counter == 4:\n",
    "            print('!')\n",
    "        else:\n",
    "            print('!', end = ' ')\n",
    "        counter += 1\n",
    "\n",
    "    counter = 0\n",
    "\n",
    "    print('\\n#', end = ' ')\n",
    "    while counter < 4:\n",
    "        for x in range(4):\n",
    "            print('=', end = ' ')\n",
    "        if counter == 4:\n",
    "            print('#')\n",
    "        else:\n",
    "            print('#', end = ' ')\n",
    "        counter += 1"
   ]
  },
  {
   "cell_type": "code",
   "execution_count": null,
   "id": "7b268ffa",
   "metadata": {},
   "outputs": [],
   "source": []
  }
 ],
 "metadata": {
  "kernelspec": {
   "display_name": "Python 3 (ipykernel)",
   "language": "python",
   "name": "python3"
  },
  "language_info": {
   "codemirror_mode": {
    "name": "ipython",
    "version": 3
   },
   "file_extension": ".py",
   "mimetype": "text/x-python",
   "name": "python",
   "nbconvert_exporter": "python",
   "pygments_lexer": "ipython3",
   "version": "3.9.13"
  }
 },
 "nbformat": 4,
 "nbformat_minor": 5
}
