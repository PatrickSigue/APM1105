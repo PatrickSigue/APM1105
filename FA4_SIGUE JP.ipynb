{
 "cells": [
  {
   "cell_type": "markdown",
   "id": "0d79d79f",
   "metadata": {},
   "source": [
    "# Write a Python program to print the even numbers from a given list.\n",
    "\n",
    "# List: [1, 2, 3, 4, 5, 6, 7, 8, 9, 10, 11, 13, 15, 17, 19, 24, 26, 28, 30, 32]"
   ]
  },
  {
   "cell_type": "code",
   "execution_count": 6,
   "id": "b15efd8d",
   "metadata": {},
   "outputs": [
    {
     "name": "stdout",
     "output_type": "stream",
     "text": [
      "[2, 4, 6, 8, 10, 24, 26, 28, 30, 32]\n"
     ]
    }
   ],
   "source": [
    "list = [1, 2, 3, 4, 5, 6, 7, 8, 9, 10, 11, 13, 15, 17, 19, 24, 26, 28, 30, 32]\n",
    "even = []\n",
    "\n",
    "for x in list:\n",
    "    if x % 2 == 0:\n",
    "        even.append(x)\n",
    "\n",
    "print(evenl)"
   ]
  },
  {
   "cell_type": "markdown",
   "id": "3343fbb0",
   "metadata": {},
   "source": [
    " # Generate a Python list of all the even numbers between 10 to 60"
   ]
  },
  {
   "cell_type": "code",
   "execution_count": 9,
   "id": "4df0e4a0",
   "metadata": {},
   "outputs": [
    {
     "name": "stdout",
     "output_type": "stream",
     "text": [
      "[12, 14, 16, 18, 20, 22, 24, 26, 28, 30, 32, 34, 36, 38, 40, 42, 44, 46, 48, 50, 52, 54, 56, 58]\n"
     ]
    }
   ],
   "source": [
    "list = []\n",
    "\n",
    "for x in range(11, 60):\n",
    "    if x % 2 == 0:\n",
    "        list.append(x)\n",
    "\n",
    "print(list)       "
   ]
  },
  {
   "cell_type": "markdown",
   "id": "8270f6d5",
   "metadata": {},
   "source": [
    "# Write a program to create a function show_feu_professor() using the following conditions:\n",
    "\n",
    "# It should accept the professor’s name and salary and display both.\n",
    "# If the salary is missing in the function call then assign default value 70000 to salary."
   ]
  },
  {
   "cell_type": "code",
   "execution_count": 30,
   "id": "01961be4",
   "metadata": {},
   "outputs": [
    {
     "name": "stdout",
     "output_type": "stream",
     "text": [
      "Professor name: \n",
      "Jeffrey Alvarina\n",
      "Gaano sila yumayaman? 150000\n",
      "Professor name: \n",
      "Joanna Eugenio\n",
      "Gaano sila yumayaman? \n",
      "Professor name: \n",
      "Bryan Cabuenas\n",
      "Gaano sila yumayaman? 750000\n",
      "Professor name: \n",
      "Normita Cobbarubias\n",
      "Gaano sila yumayaman? \n",
      "Professor name: \n",
      "Carl Joseph Jamosin\n",
      "Gaano sila yumayaman? 78000\n",
      "Professor: Jeffrey Alvarina\n",
      "Salary: 150000\n",
      "\n",
      "Professor: Joanna Eugenio\n",
      "Salary: 70000\n",
      "\n",
      "Professor: Bryan Cabuenas\n",
      "Salary: 750000\n",
      "\n",
      "Professor: Normita Cobbarubias\n",
      "Salary: 70000\n",
      "\n",
      "Professor: Carl Joseph Jamosin\n",
      "Salary: 78000\n",
      "\n"
     ]
    }
   ],
   "source": [
    "def show_feu_professor():   \n",
    "    prof = []\n",
    "    salary = []\n",
    "\n",
    "    for x in range(0,5):\n",
    "        print(\"Professor name: \")\n",
    "        name = input()\n",
    "        print(\"Gaano sila yumayaman? \")\n",
    "        money = input() or 70000\n",
    "        prof.append(name)\n",
    "        salary.append(money)\n",
    "    \n",
    "    for y in range(0,5):\n",
    "        print(\"\\nProfessor: %s\\nSalary: %d\" %(prof[y], int(salary[y])))\n",
    "   \n",
    "        \n",
    "show_feu_professor()"
   ]
  }
 ],
 "metadata": {
  "kernelspec": {
   "display_name": "Python 3 (ipykernel)",
   "language": "python",
   "name": "python3"
  },
  "language_info": {
   "codemirror_mode": {
    "name": "ipython",
    "version": 3
   },
   "file_extension": ".py",
   "mimetype": "text/x-python",
   "name": "python",
   "nbconvert_exporter": "python",
   "pygments_lexer": "ipython3",
   "version": "3.9.13"
  }
 },
 "nbformat": 4,
 "nbformat_minor": 5
}
